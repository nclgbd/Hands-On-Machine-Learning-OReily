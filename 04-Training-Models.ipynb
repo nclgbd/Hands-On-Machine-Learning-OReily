{
 "cells": [
  {
   "cell_type": "markdown",
   "metadata": {},
   "source": [
    "# Training Models\n",
    "Up until this point, we've been working with machine learning models as if they were all black boxes, however there are many intricicies to how these models work and why certain models may be more effective than others in different situations. In this section we'll focus on some common regression models, in particular:\n",
    "* Linear Regression\n",
    "* Polynomial Regression\n",
    "* Logistic Regression\n",
    "* Softmax Regression\n",
    "\n",
    "## Linear Regression\n",
    "Generally, a linear model makes a prediction by simply computing a weighted sum of all of the input features, plus a constant called the *bias term* (or *intercept*): $$\\hat{y}=\\theta_{0}+\\theta_{1}x_{1}+\\theta_{2}x_{2}+...+\\theta_{n}x_{n}$$.\n",
    "* $\\hat{y}$ is the *predicted value*.\n",
    "* $n$ is the number of *features*.\n",
    "* $x_{i}$ is the *$i^{th}$ feature*.\n",
    "* $\\theta_{j}$ is the *$j^{th}$ model parameter* (including the bias term $\\theta_{0}$ and the feature weights $\\theta_{0}, \\theta_{1}, ..., \\theta_{n}$).\n",
    "\n",
    "This is a linear equation, but we can actual write this in what's knows as **vectorized form**:$$\\hat{y}=h_{\\bf \\theta}(\\textbf{x})={\\bf \\theta}\\bullet \\textbf{x}.$$\n",
    "* $\\bf{\\theta}$ is the model's *parameter vector*, containing the bias term $\\theta_{0}$ and the feature weights $\\theta_{1}$ to $\\theta_{n}$.\n",
    "* $\\textbf{x}$ is the instance's *feature vector*, containing $x_{0}$ to $x_{n}$, with $x_{0}$ always equal to 1.\n",
    "* $\\bf{\\theta \\bullet x}$ is the dot product of the vectors $\\bf{\\theta}$ and $\\bf{x}$, which is of course equal to $\\theta_{0}+\\theta_{1}x_{1}+\\theta_{2}x_{2}+...+\\theta_{n}x_{n}$.\n",
    "* $h_{\\theta}$ is the hypothesis function, using the model parameters $\\bf{\\theta}$.\n",
    "\n",
    "In Machine Learning, vectors are often represented as *column vectors*, which are 2D arrays with a single column. If $\\bf{\\theta}$ and $\\bf{x}$ are column vectors, then the prediction is $$\\hat{y}=\\bf{\\theta^{\\bf{T}}x}$$ where $\\bf{\\theta^{\\bf{T}}}$ is the *transpose* of $\\bf{\\theta}$ (a row vector instead of a column vector) and $\\bf{\\theta^{\\bf{T}}x}$ is the matrix multiplication is $\\bf{\\theta^{\\bf{T}}}$ and $\\bf{x}$. It is of course the same prediction, except it is now represented as a single cell matrix rather than a scalar value.\n",
    "\n",
    "The most common performance measure of a regression model is the **Root Mean Square Error (RSME).** Therefore, to train a linear regression model, you need to find the value of $\\bf{\\theta}$ thatminimizes the RSME. Ib practice, it is simpler to minimize the **Mean Square Error (MSE)** than the RMSE.\n",
    "\n",
    "This is calculated using the following equation: $$MSE(\\bf{X}, h_{\\theta})=\\frac{1}{m}\\sum_{i=1}^{m}(\\bf{\\theta^{T}x^{(i)}-y^{(i)}})^{2}$$\n",
    "\n",
    "### The Normal Equation\n",
    "To find this $\\bf{\\theta}$, there is a closed-form solution known as the **normal equation.**: $$\\hat{\\bf{\\theta}}=(\\bf{X^{T}}X)^{-1}\\bf{X^{T}}y$$\n",
    "* $\\hat{\\theta}$ ia the value of $\\bf{\\theta}$ that minimizes the cost function.\n",
    "* $y$ is the vector of target values containing $y^{1}$ to $y^{(m)}$\n",
    "\n",
    "Let's create some linear-looking data:"
   ]
  },
  {
   "cell_type": "code",
   "execution_count": 1,
   "metadata": {},
   "outputs": [],
   "source": [
    "import numpy as np\n",
    "X = 2 * np.random.rand(100, 1)\n",
    "y = 4 + 3*X + np.random.randn(100, 1)"
   ]
  },
  {
   "cell_type": "markdown",
   "metadata": {},
   "source": [
    "You can find $\\hat{\\theta}$ using the `inv()` function from the linear algebra module in NumPy (`np.linalg`)"
   ]
  },
  {
   "cell_type": "code",
   "execution_count": 2,
   "metadata": {},
   "outputs": [
    {
     "data": {
      "text/plain": [
       "array([[4.02598307],\n",
       "       [3.10387674]])"
      ]
     },
     "execution_count": 2,
     "metadata": {},
     "output_type": "execute_result"
    }
   ],
   "source": [
    "X_b = np.c_[np.ones((100, 1)), X] # add x0 = 1 to each instance\n",
    "theta_best = np.linalg.inv(X_b.T.dot(X_b)).dot(X_b.T).dot(y) # compute the dot product\n",
    "theta_best"
   ]
  },
  {
   "cell_type": "markdown",
   "metadata": {},
   "source": [
    "The actual function is $y=4+3x_{1}+$ Gaussian noise, so best case scenerio $\\theta_{0}=4$ and $\\theta_{1}=3$. Using the normal equation, we've instead calculated $\\theta_{0}=3.96033848$ and $\\theta_{1}=3.23984268$. \n",
    "\n",
    "From here we can make a linear prediction:"
   ]
  },
  {
   "cell_type": "code",
   "execution_count": 3,
   "metadata": {},
   "outputs": [
    {
     "data": {
      "text/plain": [
       "array([[ 4.02598307],\n",
       "       [10.23373655]])"
      ]
     },
     "execution_count": 3,
     "metadata": {},
     "output_type": "execute_result"
    }
   ],
   "source": [
    "X_new = np.array([[0], [2]])\n",
    "X_new_b = np.c_[np.ones((2, 1)), X_new]\n",
    "y_predict = X_new_b.dot(theta_best)\n",
    "y_predict"
   ]
  },
  {
   "cell_type": "markdown",
   "metadata": {},
   "source": [
    "We can plot this to get a visual representation:"
   ]
  },
  {
   "cell_type": "code",
   "execution_count": 4,
   "metadata": {},
   "outputs": [
    {
     "data": {
      "text/plain": [
       "[<matplotlib.lines.Line2D at 0x20a048afef0>]"
      ]
     },
     "execution_count": 4,
     "metadata": {},
     "output_type": "execute_result"
    },
    {
     "data": {
      "image/png": "[encoded data removed]",
      "text/plain": [
       "<Figure size 432x288 with 1 Axes>"
      ]
     },
     "metadata": {
      "needs_background": "light"
     },
     "output_type": "display_data"
    }
   ],
   "source": [
    "import matplotlib.pyplot as plt\n",
    "%matplotlib inline\n",
    "plt.plot(X_new, y_predict, 'r-')\n",
    "plt.plot(X, y, 'b.')"
   ]
  },
  {
   "cell_type": "markdown",
   "metadata": {},
   "source": [
    "This is essentially what the `LinearRegression` class does, and we can run it as such:"
   ]
  },
  {
   "cell_type": "code",
   "execution_count": 5,
   "metadata": {},
   "outputs": [
    {
     "data": {
      "text/plain": [
       "(array([4.02598307]), array([[3.10387674]]))"
      ]
     },
     "execution_count": 5,
     "metadata": {},
     "output_type": "execute_result"
    }
   ],
   "source": [
    "from sklearn.linear_model import LinearRegression\n",
    "lr = LinearRegression()\n",
    "lr.fit(X, y)\n",
    "lr.intercept_, lr.coef_"
   ]
  },
  {
   "cell_type": "markdown",
   "metadata": {},
   "source": [
    "The `LinearRegression` class is based on the `scipy.linalg.lstsq()` function:"
   ]
  },
  {
   "cell_type": "code",
   "execution_count": 6,
   "metadata": {},
   "outputs": [
    {
     "data": {
      "text/plain": [
       "array([[4.02598307],\n",
       "       [3.10387674]])"
      ]
     },
     "execution_count": 6,
     "metadata": {},
     "output_type": "execute_result"
    }
   ],
   "source": [
    "theta_best_svd, residuals, rank, s = np.linalg.lstsq(X_b, y, rcond=1e-6)\n",
    "theta_best_svd"
   ]
  },
  {
   "cell_type": "markdown",
   "metadata": {},
   "source": [
    "## Gradient Descent\n",
    "*Gradient Descent* is a common algorithm used to find the optimal solution to a wide variety of problems. The general idea is to make gradual tweaks to your parameters in order to minimize the cost function. Since the cost function for many linear regression (and other) models is parabolic, this means that we can find a minimum of the function. Since this function is unknown, however, we used a **learning parameter** to learn where on the curve we are, and once we've hit the bottom we're complete!\n",
    "\n",
    "It's clear to see that the learning parameter is an important part of using gradient descent, as a learning parameter that is too small will take many iterations to find the minimum, while a learning parameter that is too high will overcompensate and thus still take too many iterations.\n",
    "\n",
    "Since MSE is a *convex* and *continouos function* with a slope that never abruptly changes, using gradient descent is almost guaranteed to get us close to our global minimum.\n",
    "\n",
    "### Batch Gradient Descent\n",
    "To calculate the gradient descent, you use this formula:$$\\frac{\\partial}{\\partial \\theta_{j}}MSE(\\theta)=\\frac{2}{m}\\sum_{i=1}^{m}(\\theta^{T}x^{(i)}-y^{(i)})x_{j}^{(i)}.$$\n",
    "There's also a closed formula for calculating the gradient descent as well, denoted as $\\nabla_{\\theta}MSE(\\theta)-\\theta$. To calculate the next step, we use the learning step (denoted as $\\eta$):$$\\theta^{(next step)}=\\theta-\\eta\\nabla_{\\theta}MSE(\\theta).$$\n",
    "We can see this implemented with code:"
   ]
  },
  {
   "cell_type": "code",
   "execution_count": 9,
   "metadata": {},
   "outputs": [
    {
     "data": {
      "text/plain": [
       "array([[4.02598307],\n",
       "       [3.10387674]])"
      ]
     },
     "execution_count": 9,
     "metadata": {},
     "output_type": "execute_result"
    }
   ],
   "source": [
    "eta = 0.1 # learning rate\n",
    "n_iterations = 1000\n",
    "m = 100\n",
    "\n",
    "theta = np.random.randn(2, 1)\n",
    "count = 0\n",
    "for iteration in range(n_iterations):\n",
    "    gradients = (2/m)*X_b.T.dot(X_b.dot(theta)-y)\n",
    "    theta = theta-eta*gradients\n",
    "    count += 1\n",
    "\n",
    "theta"
   ]
  },
  {
   "cell_type": "markdown",
   "metadata": {},
   "source": [
    "So we can see that we found it! However let's try with different learning rates we may not be able to reach the minimum. Another thing to consider is how to select how many iterations we do, as too few iterations and we may not find our global minimum, and too many iterations and it will take too long. A way around this is to pick some sort of *tolerance* value ($\\epsilon$) of which to stop searching."
   ]
  },
  {
   "cell_type": "code",
   "execution_count": null,
   "metadata": {},
   "outputs": [],
   "source": []
  }
 ],
 "metadata": {
  "kernelspec": {
   "display_name": "Python 3",
   "language": "python",
   "name": "python3"
  },
  "language_info": {
   "codemirror_mode": {
    "name": "ipython",
    "version": 3
   },
   "file_extension": ".py",
   "mimetype": "text/x-python",
   "name": "python",
   "nbconvert_exporter": "python",
   "pygments_lexer": "ipython3",
   "version": "3.6.7"
  }
 },
 "nbformat": 4,
 "nbformat_minor": 2
}
