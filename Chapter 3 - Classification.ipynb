{
 "cells": [
  {
   "cell_type": "markdown",
   "metadata": {},
   "source": [
    "# Chapter 3: Classification\n",
    "The most common machine learning tasks are regression (predicating values) and classification (predicting classes). This notebook will be used to focus on classification, particularly with the MNIST dataset.\n",
    "\n",
    "## What is MNIST?\n",
    "*MNIST* is a popular dataset consisting of 70,000 small handwritten digits. So popular, it's an included dataset for Scikit-Learn. \n",
    "\n",
    "Lets fetch the MNIST dataset:"
   ]
  },
  {
   "cell_type": "code",
   "execution_count": 21,
   "metadata": {},
   "outputs": [
    {
     "data": {
      "text/plain": [
       "dict_keys(['data', 'target', 'feature_names', 'DESCR', 'details', 'categories', 'url'])"
      ]
     },
     "execution_count": 21,
     "metadata": {},
     "output_type": "execute_result"
    }
   ],
   "source": [
    "from sklearn.datasets import fetch_openml\n",
    "mnist = fetch_openml('mnist_784', version=1)\n",
    "mnist.keys()"
   ]
  },
  {
   "cell_type": "markdown",
   "metadata": {},
   "source": [
    "You can see all of the different datapoints of consideration for MNIST, but we'll look at 2 in particular: `data` and `target`."
   ]
  },
  {
   "cell_type": "code",
   "execution_count": 22,
   "metadata": {},
   "outputs": [
    {
     "name": "stdout",
     "output_type": "stream",
     "text": [
      "(70000, 784)\n",
      "(70000,)\n"
     ]
    }
   ],
   "source": [
    "import numpy as np\n",
    "X, y = mnist['data'], mnist['target']\n",
    "y = y.astype(np.uint8) # convert the string labels into integer labels\n",
    "print(X.shape)\n",
    "print(y.shape)"
   ]
  },
  {
   "cell_type": "markdown",
   "metadata": {},
   "source": [
    "As our `y` variable represents our label, there's `70000` different objects that need to be labelled. As for our `X`, there is indeed `70000` different objects to be labelled, but alongside that, each data point has a 28 by 28 array representing the intensity of the pixel. Lets plot one of these data points to understand further:"
   ]
  },
  {
   "cell_type": "code",
   "execution_count": 23,
   "metadata": {},
   "outputs": [
    {
     "data": {
      "image/png": "[encoded data removed]",
      "text/plain": [
       "<Figure size 432x288 with 1 Axes>"
      ]
     },
     "metadata": {
      "needs_background": "light"
     },
     "output_type": "display_data"
    }
   ],
   "source": [
    "import matplotlib as mpl\n",
    "import matplotlib.pyplot as plt\n",
    "%matplotlib inline\n",
    "some_digit = X[0]\n",
    "some_digit_image = some_digit.reshape(28, 28)\n",
    "\n",
    "plt.imshow(some_digit_image, cmap=mpl.cm.binary, interpolation='nearest')\n",
    "plt.show()"
   ]
  },
  {
   "cell_type": "code",
   "execution_count": 24,
   "metadata": {},
   "outputs": [
    {
     "data": {
      "text/plain": [
       "5"
      ]
     },
     "execution_count": 24,
     "metadata": {},
     "output_type": "execute_result"
    }
   ],
   "source": [
    "y[0]"
   ]
  },
  {
   "cell_type": "markdown",
   "metadata": {},
   "source": [
    "It's clear to see that `data` and `target` are directly linked.\n",
    "\n",
    "Before we continue, we should split out dataset into test and train as not to expose the testing/data exploration phase to the test and training phases."
   ]
  },
  {
   "cell_type": "code",
   "execution_count": 25,
   "metadata": {},
   "outputs": [],
   "source": [
    "# use the first 60000 images for training and the last 10000 images for testing\n",
    "X_train, X_test, y_train, y_test = X[:60000], X[60000:], y[:60000], y[60000:]"
   ]
  },
  {
   "cell_type": "markdown",
   "metadata": {},
   "source": [
    "## Performance Measures\n",
    "There are a variety of different ways to measure how well a model is performing. A common way is by using *accuracy*, however it has it's pitfalls. Here, we'll explore other methods in measuring performance.\n",
    "\n",
    "### Confustion Matrix\n",
    "For each row of a confusion matrix, it represents an *actual class*, while each column represents a *predicted class*. They're known as **true positives, true negatives, false positives,** and **false negatives**:\n",
    "* True positive - the number of instances in which the model said an image was \"positive\" (in a class) and it was correct\n",
    "* True negatives - the number of instances in which the model said an image was \"negative\" (NOT in a class) and it was correct\n",
    "* False positives - the number of instances in which the model said an image was \"positive\" and it was incorrect\n",
    "* False negatives - the number of instances in which the model said an image was \"negative\" and it was incorrect\n",
    "\n",
    "The perfect classifier would only have true positives and true negatives.\n",
    "\n",
    "### Precision\n",
    "The confusion matrix gives you a lot of information, but sometimes you may prefer a more concise metric. One to consider may be the accuracy of the positive predictions, known as **precision**. This is calculated with $$\\frac{TP}{TP+FP}$$ where $TP$ is *true positive* and $FP$ is *false positive*.\n",
    "\n",
    "### Recall\n",
    "Typically, precision on it's own is not very useful, so it is often used with **recall**, sometimes referred to as the *sensitivity* or the *true positive rate*. This is calculated with $$\\frac{TP}{TP+FN}$$ where $FN$ is *false negative*.\n",
    "\n",
    "### F Score\n",
    "Another metric to consider the **F score**, which is the *harmonic mean* of precision and recall. This is nice because it weighs the model's incorrect classifications more heavily than just precision and recall alone. To calculate this with $$\\frac{TP}{TP+\\frac{FN+FP}{2}}$$.\n",
    "\n",
    "All of these metrics can be found in the `sklearn.metrics` module using `confusion_matrix`, `precision_score`, `recall_score`, and `f1_score`.\n",
    "\n",
    "It should be noted that F Score typically works better with similar precision and recall scores, and also that typically when trying to improve one metric, you'll hurt the other. This is known as the *Precision/Recall Tradeoff*.\n",
    "\n",
    "\n",
    "***With all of this being said,*** let's try building a classifier for the number 5 from the MNIST dataset:"
   ]
  },
  {
   "cell_type": "code",
   "execution_count": 27,
   "metadata": {},
   "outputs": [],
   "source": [
    " # grabs all the instanes of 5\n",
    "y_train_5 = (y_train == 5)\n",
    "y_test_5 = (y_test == 5)"
   ]
  },
  {
   "cell_type": "markdown",
   "metadata": {},
   "source": [
    "From here, we'll use the `SGDClassifier` (**S**tochastic **G**radient **D**escent) to perform our classification:"
   ]
  },
  {
   "cell_type": "code",
   "execution_count": 28,
   "metadata": {},
   "outputs": [
    {
     "data": {
      "text/plain": [
       "array([ True])"
      ]
     },
     "execution_count": 28,
     "metadata": {},
     "output_type": "execute_result"
    }
   ],
   "source": [
    "from sklearn.linear_model import SGDClassifier\n",
    "sgd_clf = SGDClassifier(random_state=42)\n",
    "sgd_clf.fit(X_train, y_train_5) # this classifier relies on randomness during training, hence the stochastic\n",
    "sgd_clf.predict([some_digit])"
   ]
  },
  {
   "cell_type": "markdown",
   "metadata": {},
   "source": [
    "Awesome! So the classifier accurately predicted that the digit we selected earlier was indeed a 5! Lets check with all of the other metrics we defined earlier:"
   ]
  },
  {
   "cell_type": "code",
   "execution_count": 30,
   "metadata": {},
   "outputs": [
    {
     "data": {
      "text/plain": [
       "array([[53892,   687],\n",
       "       [ 1891,  3530]], dtype=int64)"
      ]
     },
     "execution_count": 30,
     "metadata": {},
     "output_type": "execute_result"
    }
   ],
   "source": [
    "from sklearn.model_selection import cross_val_predict\n",
    "from sklearn.metrics import confusion_matrix, precision_score, recall_score, f1_score\n",
    "y_train_pred = cross_val_predict(sgd_clf, X_train, y_train_5, cv=3)\n",
    "confusion_matrix(y_train_5, y_train_pred)"
   ]
  },
  {
   "cell_type": "markdown",
   "metadata": {},
   "source": [
    "Our classifier did well on our own digit that we selected at the beginning, and according to the confusion matrix it was able to correctly classify $\\frac{57422}{60000}$, which is about 96%! Not too shabby! Now lets try looking at the precision and recall scores:"
   ]
  },
  {
   "cell_type": "code",
   "execution_count": 31,
   "metadata": {},
   "outputs": [
    {
     "data": {
      "text/plain": [
       "0.8370879772350012"
      ]
     },
     "execution_count": 31,
     "metadata": {},
     "output_type": "execute_result"
    }
   ],
   "source": [
    "precision_score(y_train_5, y_train_pred)"
   ]
  },
  {
   "cell_type": "code",
   "execution_count": 32,
   "metadata": {},
   "outputs": [
    {
     "data": {
      "text/plain": [
       "0.6511713705958311"
      ]
     },
     "execution_count": 32,
     "metadata": {},
     "output_type": "execute_result"
    }
   ],
   "source": [
    "recall_score(y_train_5, y_train_pred)"
   ]
  },
  {
   "cell_type": "markdown",
   "metadata": {},
   "source": [
    "Now we start to see the flaws more clearly. It seems that our model is able to somewhat accurate classify 5's (precision score), however it's overcompensating by classifying more false negatives to achieve this result. This is not what we want.\n",
    "\n",
    "Now lets look at the F score:"
   ]
  },
  {
   "cell_type": "code",
   "execution_count": 33,
   "metadata": {},
   "outputs": [
    {
     "data": {
      "text/plain": [
       "0.7325171197343846"
      ]
     },
     "execution_count": 33,
     "metadata": {},
     "output_type": "execute_result"
    }
   ],
   "source": [
    "f1_score(y_train_5, y_train_pred)"
   ]
  },
  {
   "cell_type": "markdown",
   "metadata": {},
   "source": [
    "## Precision/Recall Tradeoff\n",
    "Given this, lets try to look at how the `SGDClassifier` is working under the hood. While we can't change our deciison threshold directly, we can look at the decision scores instead of the prediction itself to see how the classification is actually working:"
   ]
  },
  {
   "cell_type": "code",
   "execution_count": 35,
   "metadata": {},
   "outputs": [
    {
     "data": {
      "text/plain": [
       "array([ True])"
      ]
     },
     "execution_count": 35,
     "metadata": {},
     "output_type": "execute_result"
    }
   ],
   "source": [
    "y_scores = sgd_clf.decision_function([some_digit])\n",
    "threshold = 0\n",
    "y_some_digit_pred = (y_scores > threshold)\n",
    "y_some_digit_pred"
   ]
  },
  {
   "cell_type": "markdown",
   "metadata": {},
   "source": [
    "Using a threshold of 1 is the same as simply using the `predict` function. Lets try raising our threshold:"
   ]
  },
  {
   "cell_type": "code",
   "execution_count": 36,
   "metadata": {},
   "outputs": [
    {
     "data": {
      "text/plain": [
       "array([False])"
      ]
     },
     "execution_count": 36,
     "metadata": {},
     "output_type": "execute_result"
    }
   ],
   "source": [
    "threshold = 200000\n",
    "y_some_digit_pred = (y_scores > threshold)\n",
    "y_some_digit_pred"
   ]
  },
  {
   "cell_type": "markdown",
   "metadata": {},
   "source": [
    "We see now that the classifier incorrectly classified our true ground number, resulting in a false negative. This means that raising the threshold results in a decrease in our recall.\n",
    "\n",
    "To decide what kind of threshold to use, we start by getting the scores of all instances in the training set using the `cross_val_predict()` method, but this time specify that you want it to return the decision scores rather than the predictions. From there, we can compute the precision and recall scores for all possible thresholds using the `precision_recall_curve()` function. And then finally, we can plot how they compare using `matplotlib`:"
   ]
  },
  {
   "cell_type": "code",
   "execution_count": 37,
   "metadata": {},
   "outputs": [],
   "source": [
    "from sklearn.metrics import precision_recall_curve\n",
    "y_scores = cross_val_predict(sgd_clf, X_train, y_train_5, cv=3, method='decision_function')\n",
    "\n",
    "precisions, recalls, thresholds = precision_recall_curve(y_train_5, y_scores)"
   ]
  },
  {
   "cell_type": "code",
   "execution_count": 38,
   "metadata": {},
   "outputs": [],
   "source": [
    "def plot_precision_recall_vs_threshold(precisions, recalls, thresholds):\n",
    "    plt.plot(thresholds, precisions[:-1], 'b--', label='Precision')\n",
    "    plt.plot(thresholds, recalls[:-1], 'g-', label='Recall')\n",
    "    plt.xlabel('Threshold')\n",
    "    plt.legend(loc='center left')\n",
    "    plt.ylim([0, 1])"
   ]
  },
  {
   "cell_type": "code",
   "execution_count": 39,
   "metadata": {},
   "outputs": [
    {
     "data": {
      "image/png": "[encoded data removed]",
      "text/plain": [
       "<Figure size 432x288 with 1 Axes>"
      ]
     },
     "metadata": {
      "needs_background": "light"
     },
     "output_type": "display_data"
    }
   ],
   "source": [
    "plot_precision_recall_vs_threshold(precisions, recalls, thresholds)\n",
    "plt.show()"
   ]
  },
  {
   "cell_type": "markdown",
   "metadata": {},
   "source": [
    "We can see where the precision and recall scores intersect based on the thresholds, we simply pick that intersection point. Another way to do this is to simply plot the precision and recall scores together and see where the drop off point is most evident."
   ]
  },
  {
   "cell_type": "markdown",
   "metadata": {},
   "source": [
    "## The ROC Curve\n",
    "The **reciever operating characteristic** is another common tool used with binary classifiers."
   ]
  },
  {
   "cell_type": "code",
   "execution_count": null,
   "metadata": {},
   "outputs": [],
   "source": []
  }
 ],
 "metadata": {
  "kernelspec": {
   "display_name": "Python 3",
   "language": "python",
   "name": "python3"
  },
  "language_info": {
   "codemirror_mode": {
    "name": "ipython",
    "version": 3
   },
   "file_extension": ".py",
   "mimetype": "text/x-python",
   "name": "python",
   "nbconvert_exporter": "python",
   "pygments_lexer": "ipython3",
   "version": "3.6.7"
  }
 },
 "nbformat": 4,
 "nbformat_minor": 2
}
